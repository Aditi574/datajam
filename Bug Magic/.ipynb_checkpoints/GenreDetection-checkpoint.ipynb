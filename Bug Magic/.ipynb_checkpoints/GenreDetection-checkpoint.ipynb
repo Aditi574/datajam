{
 "cells": [
  {
   "cell_type": "code",
   "execution_count": 37,
   "metadata": {
    "collapsed": true
   },
   "outputs": [],
   "source": [
    "import pandas as pd\n",
    "import numpy as np\n",
    "\n",
    "from matplotlib import pyplot as plt\n",
    "from sklearn import preprocessing\n",
    "import seaborn as sns\n",
    "%matplotlib inline"
   ]
  },
  {
   "cell_type": "code",
   "execution_count": 126,
   "metadata": {},
   "outputs": [],
   "source": [
    "# spotify = pd.read_csv('train.csv')\n",
    "spotify = pd.read_csv('train.tsv', sep='\\t')"
   ]
  },
  {
   "cell_type": "code",
   "execution_count": 127,
   "metadata": {},
   "outputs": [
    {
     "data": {
      "text/html": [
       "<div>\n",
       "<style>\n",
       "    .dataframe thead tr:only-child th {\n",
       "        text-align: right;\n",
       "    }\n",
       "\n",
       "    .dataframe thead th {\n",
       "        text-align: left;\n",
       "    }\n",
       "\n",
       "    .dataframe tbody tr th {\n",
       "        vertical-align: top;\n",
       "    }\n",
       "</style>\n",
       "<table border=\"1\" class=\"dataframe\">\n",
       "  <thead>\n",
       "    <tr style=\"text-align: right;\">\n",
       "      <th></th>\n",
       "      <th>id</th>\n",
       "      <th>index</th>\n",
       "      <th>danceability</th>\n",
       "      <th>energy</th>\n",
       "      <th>key</th>\n",
       "      <th>loudness</th>\n",
       "      <th>mode</th>\n",
       "      <th>speechiness</th>\n",
       "      <th>acousticness</th>\n",
       "      <th>instrumentalness</th>\n",
       "      <th>liveness</th>\n",
       "      <th>valence</th>\n",
       "      <th>tempo</th>\n",
       "    </tr>\n",
       "  </thead>\n",
       "  <tbody>\n",
       "    <tr>\n",
       "      <th>count</th>\n",
       "      <td>16582.000000</td>\n",
       "      <td>16582.000000</td>\n",
       "      <td>16582.000000</td>\n",
       "      <td>16582.000000</td>\n",
       "      <td>16582.000000</td>\n",
       "      <td>16582.000000</td>\n",
       "      <td>16582.000000</td>\n",
       "      <td>16582.000000</td>\n",
       "      <td>16582.000000</td>\n",
       "      <td>16582.000000</td>\n",
       "      <td>16582.000000</td>\n",
       "      <td>16582.000000</td>\n",
       "      <td>16582.000000</td>\n",
       "    </tr>\n",
       "    <tr>\n",
       "      <th>mean</th>\n",
       "      <td>8290.500000</td>\n",
       "      <td>10379.231034</td>\n",
       "      <td>0.537497</td>\n",
       "      <td>0.581647</td>\n",
       "      <td>5.221204</td>\n",
       "      <td>-9.831052</td>\n",
       "      <td>0.630141</td>\n",
       "      <td>0.080860</td>\n",
       "      <td>0.355857</td>\n",
       "      <td>0.192579</td>\n",
       "      <td>0.177035</td>\n",
       "      <td>0.461826</td>\n",
       "      <td>118.044775</td>\n",
       "    </tr>\n",
       "    <tr>\n",
       "      <th>std</th>\n",
       "      <td>4786.955417</td>\n",
       "      <td>6019.280318</td>\n",
       "      <td>0.199509</td>\n",
       "      <td>0.294844</td>\n",
       "      <td>3.570215</td>\n",
       "      <td>7.028912</td>\n",
       "      <td>0.482781</td>\n",
       "      <td>0.088269</td>\n",
       "      <td>0.369993</td>\n",
       "      <td>0.330111</td>\n",
       "      <td>0.142501</td>\n",
       "      <td>0.274358</td>\n",
       "      <td>30.286873</td>\n",
       "    </tr>\n",
       "    <tr>\n",
       "      <th>min</th>\n",
       "      <td>0.000000</td>\n",
       "      <td>0.000000</td>\n",
       "      <td>0.057800</td>\n",
       "      <td>0.000243</td>\n",
       "      <td>0.000000</td>\n",
       "      <td>-47.327000</td>\n",
       "      <td>0.000000</td>\n",
       "      <td>0.022400</td>\n",
       "      <td>0.000000</td>\n",
       "      <td>0.000000</td>\n",
       "      <td>0.010900</td>\n",
       "      <td>0.011800</td>\n",
       "      <td>30.875000</td>\n",
       "    </tr>\n",
       "    <tr>\n",
       "      <th>25%</th>\n",
       "      <td>4145.250000</td>\n",
       "      <td>5163.250000</td>\n",
       "      <td>0.399000</td>\n",
       "      <td>0.358000</td>\n",
       "      <td>2.000000</td>\n",
       "      <td>-11.935500</td>\n",
       "      <td>0.000000</td>\n",
       "      <td>0.037300</td>\n",
       "      <td>0.019000</td>\n",
       "      <td>0.000000</td>\n",
       "      <td>0.092100</td>\n",
       "      <td>0.225000</td>\n",
       "      <td>94.995500</td>\n",
       "    </tr>\n",
       "    <tr>\n",
       "      <th>50%</th>\n",
       "      <td>8290.500000</td>\n",
       "      <td>10388.500000</td>\n",
       "      <td>0.553000</td>\n",
       "      <td>0.648000</td>\n",
       "      <td>5.000000</td>\n",
       "      <td>-7.251000</td>\n",
       "      <td>1.000000</td>\n",
       "      <td>0.048700</td>\n",
       "      <td>0.193000</td>\n",
       "      <td>0.000418</td>\n",
       "      <td>0.120000</td>\n",
       "      <td>0.459000</td>\n",
       "      <td>115.619500</td>\n",
       "    </tr>\n",
       "    <tr>\n",
       "      <th>75%</th>\n",
       "      <td>12435.750000</td>\n",
       "      <td>15593.750000</td>\n",
       "      <td>0.691000</td>\n",
       "      <td>0.830000</td>\n",
       "      <td>8.000000</td>\n",
       "      <td>-5.096250</td>\n",
       "      <td>1.000000</td>\n",
       "      <td>0.082400</td>\n",
       "      <td>0.726000</td>\n",
       "      <td>0.230750</td>\n",
       "      <td>0.217000</td>\n",
       "      <td>0.690000</td>\n",
       "      <td>136.310250</td>\n",
       "    </tr>\n",
       "    <tr>\n",
       "      <th>max</th>\n",
       "      <td>16581.000000</td>\n",
       "      <td>20789.000000</td>\n",
       "      <td>0.978000</td>\n",
       "      <td>1.000000</td>\n",
       "      <td>11.000000</td>\n",
       "      <td>0.719000</td>\n",
       "      <td>1.000000</td>\n",
       "      <td>0.960000</td>\n",
       "      <td>0.996000</td>\n",
       "      <td>0.986000</td>\n",
       "      <td>0.996000</td>\n",
       "      <td>0.989000</td>\n",
       "      <td>219.938000</td>\n",
       "    </tr>\n",
       "  </tbody>\n",
       "</table>\n",
       "</div>"
      ],
      "text/plain": [
       "                 id         index  danceability        energy           key  \\\n",
       "count  16582.000000  16582.000000  16582.000000  16582.000000  16582.000000   \n",
       "mean    8290.500000  10379.231034      0.537497      0.581647      5.221204   \n",
       "std     4786.955417   6019.280318      0.199509      0.294844      3.570215   \n",
       "min        0.000000      0.000000      0.057800      0.000243      0.000000   \n",
       "25%     4145.250000   5163.250000      0.399000      0.358000      2.000000   \n",
       "50%     8290.500000  10388.500000      0.553000      0.648000      5.000000   \n",
       "75%    12435.750000  15593.750000      0.691000      0.830000      8.000000   \n",
       "max    16581.000000  20789.000000      0.978000      1.000000     11.000000   \n",
       "\n",
       "           loudness          mode   speechiness  acousticness  \\\n",
       "count  16582.000000  16582.000000  16582.000000  16582.000000   \n",
       "mean      -9.831052      0.630141      0.080860      0.355857   \n",
       "std        7.028912      0.482781      0.088269      0.369993   \n",
       "min      -47.327000      0.000000      0.022400      0.000000   \n",
       "25%      -11.935500      0.000000      0.037300      0.019000   \n",
       "50%       -7.251000      1.000000      0.048700      0.193000   \n",
       "75%       -5.096250      1.000000      0.082400      0.726000   \n",
       "max        0.719000      1.000000      0.960000      0.996000   \n",
       "\n",
       "       instrumentalness      liveness       valence         tempo  \n",
       "count      16582.000000  16582.000000  16582.000000  16582.000000  \n",
       "mean           0.192579      0.177035      0.461826    118.044775  \n",
       "std            0.330111      0.142501      0.274358     30.286873  \n",
       "min            0.000000      0.010900      0.011800     30.875000  \n",
       "25%            0.000000      0.092100      0.225000     94.995500  \n",
       "50%            0.000418      0.120000      0.459000    115.619500  \n",
       "75%            0.230750      0.217000      0.690000    136.310250  \n",
       "max            0.986000      0.996000      0.989000    219.938000  "
      ]
     },
     "execution_count": 127,
     "metadata": {},
     "output_type": "execute_result"
    }
   ],
   "source": [
    "spotify.describe()"
   ]
  },
  {
   "cell_type": "code",
   "execution_count": 129,
   "metadata": {},
   "outputs": [],
   "source": [
    "spotify.head()\n",
    "id = spotify['id']\n",
    "del spotify['id']\n",
    "del spotify['title']\n",
    "del spotify['index']"
   ]
  },
  {
   "cell_type": "code",
   "execution_count": 28,
   "metadata": {},
   "outputs": [
    {
     "data": {
      "text/plain": [
       "id                  0\n",
       "index               0\n",
       "title               0\n",
       "danceability        0\n",
       "energy              0\n",
       "key                 0\n",
       "loudness            0\n",
       "mode                0\n",
       "speechiness         0\n",
       "acousticness        0\n",
       "instrumentalness    0\n",
       "liveness            0\n",
       "valence             0\n",
       "tempo               0\n",
       "genre               0\n",
       "dtype: int64"
      ]
     },
     "execution_count": 28,
     "metadata": {},
     "output_type": "execute_result"
    }
   ],
   "source": [
    "spotify.isnull().sum()"
   ]
  },
  {
   "cell_type": "code",
   "execution_count": 30,
   "metadata": {},
   "outputs": [
    {
     "data": {
      "text/plain": [
       "(16582, 15)"
      ]
     },
     "execution_count": 30,
     "metadata": {},
     "output_type": "execute_result"
    }
   ],
   "source": [
    "spotify.shape"
   ]
  },
  {
   "cell_type": "code",
   "execution_count": 29,
   "metadata": {},
   "outputs": [
    {
     "data": {
      "text/plain": [
       "array(['hiphop', 'metal', 'classical', 'indie_alt', 'punk', 'romance',\n",
       "       'blues', 'latin', 'pop', 'rock', 'reggae', 'funk', 'party', 'jazz',\n",
       "       'country'], dtype=object)"
      ]
     },
     "execution_count": 29,
     "metadata": {},
     "output_type": "execute_result"
    }
   ],
   "source": [
    "spotify['genre'].unique()"
   ]
  },
  {
   "cell_type": "code",
   "execution_count": 31,
   "metadata": {},
   "outputs": [
    {
     "data": {
      "text/plain": [
       "array(['hiphop', 'metal', 'classical', 'indie_alt', 'punk', 'romance',\n",
       "       'blues', 'latin', 'pop', 'rock', 'reggae', 'funk', 'party', 'jazz',\n",
       "       'country'], dtype=object)"
      ]
     },
     "execution_count": 31,
     "metadata": {},
     "output_type": "execute_result"
    }
   ],
   "source": [
    "spotify['genre'].unique()"
   ]
  },
  {
   "cell_type": "markdown",
   "metadata": {},
   "source": [
    "## DATA CLEANING"
   ]
  },
  {
   "cell_type": "code",
   "execution_count": 33,
   "metadata": {},
   "outputs": [
    {
     "data": {
      "text/html": [
       "<div>\n",
       "<style>\n",
       "    .dataframe thead tr:only-child th {\n",
       "        text-align: right;\n",
       "    }\n",
       "\n",
       "    .dataframe thead th {\n",
       "        text-align: left;\n",
       "    }\n",
       "\n",
       "    .dataframe tbody tr th {\n",
       "        vertical-align: top;\n",
       "    }\n",
       "</style>\n",
       "<table border=\"1\" class=\"dataframe\">\n",
       "  <thead>\n",
       "    <tr style=\"text-align: right;\">\n",
       "      <th></th>\n",
       "      <th>id</th>\n",
       "      <th>index</th>\n",
       "      <th>danceability</th>\n",
       "      <th>energy</th>\n",
       "      <th>key</th>\n",
       "      <th>loudness</th>\n",
       "      <th>mode</th>\n",
       "      <th>speechiness</th>\n",
       "      <th>acousticness</th>\n",
       "      <th>instrumentalness</th>\n",
       "      <th>liveness</th>\n",
       "      <th>valence</th>\n",
       "      <th>tempo</th>\n",
       "      <th>genre</th>\n",
       "    </tr>\n",
       "  </thead>\n",
       "  <tbody>\n",
       "    <tr>\n",
       "      <th>0</th>\n",
       "      <td>0</td>\n",
       "      <td>5661</td>\n",
       "      <td>0.4820</td>\n",
       "      <td>0.4770</td>\n",
       "      <td>10</td>\n",
       "      <td>-8.444</td>\n",
       "      <td>0</td>\n",
       "      <td>0.0503</td>\n",
       "      <td>0.020100</td>\n",
       "      <td>0.000000</td>\n",
       "      <td>0.2510</td>\n",
       "      <td>0.3880</td>\n",
       "      <td>117.850</td>\n",
       "      <td>hiphop</td>\n",
       "    </tr>\n",
       "    <tr>\n",
       "      <th>1</th>\n",
       "      <td>1</td>\n",
       "      <td>6719</td>\n",
       "      <td>0.5180</td>\n",
       "      <td>0.8580</td>\n",
       "      <td>0</td>\n",
       "      <td>-6.147</td>\n",
       "      <td>1</td>\n",
       "      <td>0.0672</td>\n",
       "      <td>0.005630</td>\n",
       "      <td>0.003490</td>\n",
       "      <td>0.0598</td>\n",
       "      <td>0.2420</td>\n",
       "      <td>117.897</td>\n",
       "      <td>metal</td>\n",
       "    </tr>\n",
       "    <tr>\n",
       "      <th>2</th>\n",
       "      <td>2</td>\n",
       "      <td>6357</td>\n",
       "      <td>0.5430</td>\n",
       "      <td>0.8190</td>\n",
       "      <td>11</td>\n",
       "      <td>-5.151</td>\n",
       "      <td>0</td>\n",
       "      <td>0.0732</td>\n",
       "      <td>0.018500</td>\n",
       "      <td>0.000000</td>\n",
       "      <td>0.2070</td>\n",
       "      <td>0.3650</td>\n",
       "      <td>84.541</td>\n",
       "      <td>hiphop</td>\n",
       "    </tr>\n",
       "    <tr>\n",
       "      <th>3</th>\n",
       "      <td>3</td>\n",
       "      <td>8849</td>\n",
       "      <td>0.2910</td>\n",
       "      <td>0.7580</td>\n",
       "      <td>1</td>\n",
       "      <td>-12.103</td>\n",
       "      <td>1</td>\n",
       "      <td>0.0556</td>\n",
       "      <td>0.000918</td>\n",
       "      <td>0.000007</td>\n",
       "      <td>0.2910</td>\n",
       "      <td>0.4480</td>\n",
       "      <td>80.601</td>\n",
       "      <td>metal</td>\n",
       "    </tr>\n",
       "    <tr>\n",
       "      <th>4</th>\n",
       "      <td>4</td>\n",
       "      <td>14251</td>\n",
       "      <td>0.0975</td>\n",
       "      <td>0.0696</td>\n",
       "      <td>3</td>\n",
       "      <td>-24.941</td>\n",
       "      <td>1</td>\n",
       "      <td>0.0408</td>\n",
       "      <td>0.992000</td>\n",
       "      <td>0.461000</td>\n",
       "      <td>0.1010</td>\n",
       "      <td>0.0353</td>\n",
       "      <td>80.872</td>\n",
       "      <td>classical</td>\n",
       "    </tr>\n",
       "  </tbody>\n",
       "</table>\n",
       "</div>"
      ],
      "text/plain": [
       "   id  index  danceability  energy  key  loudness  mode  speechiness  \\\n",
       "0   0   5661        0.4820  0.4770   10    -8.444     0       0.0503   \n",
       "1   1   6719        0.5180  0.8580    0    -6.147     1       0.0672   \n",
       "2   2   6357        0.5430  0.8190   11    -5.151     0       0.0732   \n",
       "3   3   8849        0.2910  0.7580    1   -12.103     1       0.0556   \n",
       "4   4  14251        0.0975  0.0696    3   -24.941     1       0.0408   \n",
       "\n",
       "   acousticness  instrumentalness  liveness  valence    tempo      genre  \n",
       "0      0.020100          0.000000    0.2510   0.3880  117.850     hiphop  \n",
       "1      0.005630          0.003490    0.0598   0.2420  117.897      metal  \n",
       "2      0.018500          0.000000    0.2070   0.3650   84.541     hiphop  \n",
       "3      0.000918          0.000007    0.2910   0.4480   80.601      metal  \n",
       "4      0.992000          0.461000    0.1010   0.0353   80.872  classical  "
      ]
     },
     "execution_count": 33,
     "metadata": {},
     "output_type": "execute_result"
    }
   ],
   "source": [
    "del spotify['title']\n",
    "spotify.head()"
   ]
  },
  {
   "cell_type": "code",
   "execution_count": 32,
   "metadata": {},
   "outputs": [
    {
     "data": {
      "text/plain": [
       "array([0, 1])"
      ]
     },
     "execution_count": 32,
     "metadata": {},
     "output_type": "execute_result"
    }
   ],
   "source": [
    "spotify['mode'].unique()"
   ]
  },
  {
   "cell_type": "code",
   "execution_count": 35,
   "metadata": {
    "collapsed": true
   },
   "outputs": [],
   "source": [
    "def plot_correlation_map( data_frame ):\n",
    "    corr = data_frame.corr()\n",
    "    _ , ax = plt.subplots( figsize =( 20 , 18 ) )\n",
    "    cmap = sns.diverging_palette( 220 , 10 , as_cmap = True )\n",
    "    _ = sns.heatmap(\n",
    "        corr, \n",
    "        cmap = cmap,\n",
    "        square=True, \n",
    "        cbar_kws={ 'shrink' : .9 }, \n",
    "        ax=ax, \n",
    "        annot = True, \n",
    "        annot_kws = { 'fontsize' : 12 }\n",
    "    )\n",
    "\n"
   ]
  },
  {
   "cell_type": "code",
   "execution_count": 38,
   "metadata": {},
   "outputs": [
    {
     "data": {
      "image/png": "[encoded data removed]",
      "text/plain": [
       "<matplotlib.figure.Figure at 0x116d15e80>"
      ]
     },
     "metadata": {},
     "output_type": "display_data"
    }
   ],
   "source": [
    "plot_correlation_map(spotify)\n",
    "spotify.corr()\n",
    "plt.show()"
   ]
  },
  {
   "cell_type": "code",
   "execution_count": 40,
   "metadata": {
    "collapsed": true
   },
   "outputs": [],
   "source": [
    "y = spotify['genre']\n",
    "del spotify['genre']"
   ]
  },
  {
   "cell_type": "code",
   "execution_count": 42,
   "metadata": {},
   "outputs": [
    {
     "data": {
      "text/html": [
       "<div>\n",
       "<style>\n",
       "    .dataframe thead tr:only-child th {\n",
       "        text-align: right;\n",
       "    }\n",
       "\n",
       "    .dataframe thead th {\n",
       "        text-align: left;\n",
       "    }\n",
       "\n",
       "    .dataframe tbody tr th {\n",
       "        vertical-align: top;\n",
       "    }\n",
       "</style>\n",
       "<table border=\"1\" class=\"dataframe\">\n",
       "  <thead>\n",
       "    <tr style=\"text-align: right;\">\n",
       "      <th></th>\n",
       "      <th>id</th>\n",
       "      <th>index</th>\n",
       "      <th>danceability</th>\n",
       "      <th>energy</th>\n",
       "      <th>key</th>\n",
       "      <th>loudness</th>\n",
       "      <th>mode</th>\n",
       "      <th>speechiness</th>\n",
       "      <th>acousticness</th>\n",
       "      <th>instrumentalness</th>\n",
       "      <th>liveness</th>\n",
       "      <th>valence</th>\n",
       "      <th>tempo</th>\n",
       "    </tr>\n",
       "  </thead>\n",
       "  <tbody>\n",
       "    <tr>\n",
       "      <th>0</th>\n",
       "      <td>0</td>\n",
       "      <td>5661</td>\n",
       "      <td>0.4820</td>\n",
       "      <td>0.4770</td>\n",
       "      <td>10</td>\n",
       "      <td>-8.444</td>\n",
       "      <td>0</td>\n",
       "      <td>0.0503</td>\n",
       "      <td>0.020100</td>\n",
       "      <td>0.000000</td>\n",
       "      <td>0.2510</td>\n",
       "      <td>0.3880</td>\n",
       "      <td>117.850</td>\n",
       "    </tr>\n",
       "    <tr>\n",
       "      <th>1</th>\n",
       "      <td>1</td>\n",
       "      <td>6719</td>\n",
       "      <td>0.5180</td>\n",
       "      <td>0.8580</td>\n",
       "      <td>0</td>\n",
       "      <td>-6.147</td>\n",
       "      <td>1</td>\n",
       "      <td>0.0672</td>\n",
       "      <td>0.005630</td>\n",
       "      <td>0.003490</td>\n",
       "      <td>0.0598</td>\n",
       "      <td>0.2420</td>\n",
       "      <td>117.897</td>\n",
       "    </tr>\n",
       "    <tr>\n",
       "      <th>2</th>\n",
       "      <td>2</td>\n",
       "      <td>6357</td>\n",
       "      <td>0.5430</td>\n",
       "      <td>0.8190</td>\n",
       "      <td>11</td>\n",
       "      <td>-5.151</td>\n",
       "      <td>0</td>\n",
       "      <td>0.0732</td>\n",
       "      <td>0.018500</td>\n",
       "      <td>0.000000</td>\n",
       "      <td>0.2070</td>\n",
       "      <td>0.3650</td>\n",
       "      <td>84.541</td>\n",
       "    </tr>\n",
       "    <tr>\n",
       "      <th>3</th>\n",
       "      <td>3</td>\n",
       "      <td>8849</td>\n",
       "      <td>0.2910</td>\n",
       "      <td>0.7580</td>\n",
       "      <td>1</td>\n",
       "      <td>-12.103</td>\n",
       "      <td>1</td>\n",
       "      <td>0.0556</td>\n",
       "      <td>0.000918</td>\n",
       "      <td>0.000007</td>\n",
       "      <td>0.2910</td>\n",
       "      <td>0.4480</td>\n",
       "      <td>80.601</td>\n",
       "    </tr>\n",
       "    <tr>\n",
       "      <th>4</th>\n",
       "      <td>4</td>\n",
       "      <td>14251</td>\n",
       "      <td>0.0975</td>\n",
       "      <td>0.0696</td>\n",
       "      <td>3</td>\n",
       "      <td>-24.941</td>\n",
       "      <td>1</td>\n",
       "      <td>0.0408</td>\n",
       "      <td>0.992000</td>\n",
       "      <td>0.461000</td>\n",
       "      <td>0.1010</td>\n",
       "      <td>0.0353</td>\n",
       "      <td>80.872</td>\n",
       "    </tr>\n",
       "  </tbody>\n",
       "</table>\n",
       "</div>"
      ],
      "text/plain": [
       "   id  index  danceability  energy  key  loudness  mode  speechiness  \\\n",
       "0   0   5661        0.4820  0.4770   10    -8.444     0       0.0503   \n",
       "1   1   6719        0.5180  0.8580    0    -6.147     1       0.0672   \n",
       "2   2   6357        0.5430  0.8190   11    -5.151     0       0.0732   \n",
       "3   3   8849        0.2910  0.7580    1   -12.103     1       0.0556   \n",
       "4   4  14251        0.0975  0.0696    3   -24.941     1       0.0408   \n",
       "\n",
       "   acousticness  instrumentalness  liveness  valence    tempo  \n",
       "0      0.020100          0.000000    0.2510   0.3880  117.850  \n",
       "1      0.005630          0.003490    0.0598   0.2420  117.897  \n",
       "2      0.018500          0.000000    0.2070   0.3650   84.541  \n",
       "3      0.000918          0.000007    0.2910   0.4480   80.601  \n",
       "4      0.992000          0.461000    0.1010   0.0353   80.872  "
      ]
     },
     "execution_count": 42,
     "metadata": {},
     "output_type": "execute_result"
    }
   ],
   "source": [
    "spotify.head()\n"
   ]
  },
  {
   "cell_type": "code",
   "execution_count": 43,
   "metadata": {},
   "outputs": [
    {
     "data": {
      "text/plain": [
       "LabelEncoder()"
      ]
     },
     "execution_count": 43,
     "metadata": {},
     "output_type": "execute_result"
    }
   ],
   "source": [
    "le = preprocessing.LabelEncoder()\n",
    "le.fit(['hiphop', 'metal', 'classical', 'indie_alt', 'punk', 'romance',\n",
    "       'blues', 'latin', 'pop', 'rock', 'reggae', 'funk', 'party', 'jazz',\n",
    "       'country'])\n",
    "\n",
    "\n",
    "# >>> le.transform([\"tokyo\", \"tokyo\", \"paris\"])\n",
    "# array([2, 2, 1])\n",
    "# >>> list(le.inverse_transform([2, 2, 1]))\n",
    "# ['tokyo', 'tokyo', 'paris']"
   ]
  },
  {
   "cell_type": "code",
   "execution_count": 44,
   "metadata": {},
   "outputs": [
    {
     "data": {
      "text/plain": [
       "['blues',\n",
       " 'classical',\n",
       " 'country',\n",
       " 'funk',\n",
       " 'hiphop',\n",
       " 'indie_alt',\n",
       " 'jazz',\n",
       " 'latin',\n",
       " 'metal',\n",
       " 'party',\n",
       " 'pop',\n",
       " 'punk',\n",
       " 'reggae',\n",
       " 'rock',\n",
       " 'romance']"
      ]
     },
     "execution_count": 44,
     "metadata": {},
     "output_type": "execute_result"
    }
   ],
   "source": [
    "list(le.classes_)"
   ]
  },
  {
   "cell_type": "code",
   "execution_count": 45,
   "metadata": {},
   "outputs": [
    {
     "data": {
      "text/plain": [
       "array([ 4,  8,  1,  5, 11, 14,  0,  7, 10, 13, 12,  3,  9,  6,  2])"
      ]
     },
     "execution_count": 45,
     "metadata": {},
     "output_type": "execute_result"
    }
   ],
   "source": [
    "le.transform(['hiphop', 'metal', 'classical', 'indie_alt', 'punk', 'romance',\n",
    "       'blues', 'latin', 'pop', 'rock', 'reggae', 'funk', 'party', 'jazz',\n",
    "       'country'])\n"
   ]
  },
  {
   "cell_type": "code",
   "execution_count": 46,
   "metadata": {
    "collapsed": true
   },
   "outputs": [],
   "source": [
    "spotify['Genres']=le.fit_transform(y)"
   ]
  },
  {
   "cell_type": "code",
   "execution_count": 48,
   "metadata": {},
   "outputs": [
    {
     "data": {
      "text/plain": [
       "array([ 4,  8,  1,  5, 11, 14,  0,  7, 10, 13, 12,  3,  9,  6,  2])"
      ]
     },
     "execution_count": 48,
     "metadata": {},
     "output_type": "execute_result"
    }
   ],
   "source": [
    "spotify.head()\n",
    "spotify['Genres'].unique()"
   ]
  },
  {
   "cell_type": "code",
   "execution_count": 49,
   "metadata": {
    "collapsed": true
   },
   "outputs": [],
   "source": [
    "y = spotify['Genres']\n"
   ]
  },
  {
   "cell_type": "markdown",
   "metadata": {},
   "source": [
    "## feature selection"
   ]
  },
  {
   "cell_type": "markdown",
   "metadata": {},
   "source": [
    "### removal of features with low variance"
   ]
  },
  {
   "cell_type": "code",
   "execution_count": 50,
   "metadata": {},
   "outputs": [
    {
     "name": "stderr",
     "output_type": "stream",
     "text": [
      "/Users/admin/anaconda3/lib/python3.6/site-packages/sklearn/cross_validation.py:44: DeprecationWarning: This module was deprecated in version 0.18 in favor of the model_selection module into which all the refactored classes and functions are moved. Also note that the interface of the new CV iterators are different from that of this module. This module will be removed in 0.20.\n",
      "  \"This module will be removed in 0.20.\", DeprecationWarning)\n"
     ]
    }
   ],
   "source": [
    "from sklearn.ensemble import RandomForestClassifier as rfc\n",
    "from sklearn.tree import DecisionTreeClassifier as dtc\n",
    "from sklearn.neighbors import KNeighborsClassifier as knn\n",
    "from sklearn import cross_validation as cv\n",
    "from sklearn.linear_model import LogisticRegression"
   ]
  },
  {
   "cell_type": "code",
   "execution_count": 103,
   "metadata": {
    "collapsed": true
   },
   "outputs": [],
   "source": [
    "x_train,x_test,y_train,y_test=cv.train_test_split(spotify,y,test_size=0.20)"
   ]
  },
  {
   "cell_type": "code",
   "execution_count": 98,
   "metadata": {},
   "outputs": [],
   "source": [
    "clf=LogisticRegression()\n",
    "clf.fit(x_train,y_train)\n",
    "clf.score(x_test,y_test)\n",
    "spotify.head()\n",
    "del spotify['index']\n",
    "del spotify['Genres']"
   ]
  },
  {
   "cell_type": "code",
   "execution_count": 130,
   "metadata": {},
   "outputs": [
    {
     "data": {
      "text/plain": [
       "0.50391802290536469"
      ]
     },
     "execution_count": 130,
     "metadata": {},
     "output_type": "execute_result"
    }
   ],
   "source": [
    "\n",
    "clfrandom=rfc(n_estimators = 10)\n",
    "clfrandom.fit(x_train,y_train)\n",
    "score=clfrandom.score(x_test,y_test)\n",
    "score\n",
    "# spotify.head()"
   ]
  },
  {
   "cell_type": "code",
   "execution_count": 109,
   "metadata": {},
   "outputs": [
    {
     "name": "stdout",
     "output_type": "stream",
     "text": [
      "0.166716912873\n"
     ]
    }
   ],
   "source": [
    "max = 0\n",
    "for k in range(2,25):\n",
    "    clfknn=knn(n_neighbors=k)\n",
    "    clfknn.fit(x_train,y_train)\n",
    "    score=clfknn.score(x_test,y_test)\n",
    "    if max<score:\n",
    "        max = score\n",
    "        \n",
    "print(max)"
   ]
  },
  {
   "cell_type": "code",
   "execution_count": 110,
   "metadata": {},
   "outputs": [
    {
     "data": {
      "text/plain": [
       "0.40880313536328006"
      ]
     },
     "execution_count": 110,
     "metadata": {},
     "output_type": "execute_result"
    }
   ],
   "source": [
    "clf=LogisticRegression()\n",
    "clf.fit(x_train,y_train)\n",
    "clf.score(x_test,y_test)"
   ]
  },
  {
   "cell_type": "code",
   "execution_count": 111,
   "metadata": {},
   "outputs": [
    {
     "data": {
      "text/plain": [
       "0.44287006331022005"
      ]
     },
     "execution_count": 111,
     "metadata": {},
     "output_type": "execute_result"
    }
   ],
   "source": [
    "clfdtc=dtc()\n",
    "clfdtc.fit(x_train,y_train)\n",
    "score=clfdtc.score(x_test,y_test)\n",
    "score"
   ]
  },
  {
   "cell_type": "code",
   "execution_count": 92,
   "metadata": {},
   "outputs": [],
   "source": [
    " test = pd.read_csv('test.tsv',sep ='\\t')"
   ]
  },
  {
   "cell_type": "code",
   "execution_count": 93,
   "metadata": {},
   "outputs": [
    {
     "data": {
      "text/html": [
       "<div>\n",
       "<style>\n",
       "    .dataframe thead tr:only-child th {\n",
       "        text-align: right;\n",
       "    }\n",
       "\n",
       "    .dataframe thead th {\n",
       "        text-align: left;\n",
       "    }\n",
       "\n",
       "    .dataframe tbody tr th {\n",
       "        vertical-align: top;\n",
       "    }\n",
       "</style>\n",
       "<table border=\"1\" class=\"dataframe\">\n",
       "  <thead>\n",
       "    <tr style=\"text-align: right;\">\n",
       "      <th></th>\n",
       "      <th>id</th>\n",
       "      <th>index</th>\n",
       "      <th>title</th>\n",
       "      <th>danceability</th>\n",
       "      <th>energy</th>\n",
       "      <th>key</th>\n",
       "      <th>loudness</th>\n",
       "      <th>mode</th>\n",
       "      <th>speechiness</th>\n",
       "      <th>acousticness</th>\n",
       "      <th>instrumentalness</th>\n",
       "      <th>liveness</th>\n",
       "      <th>valence</th>\n",
       "      <th>tempo</th>\n",
       "    </tr>\n",
       "  </thead>\n",
       "  <tbody>\n",
       "    <tr>\n",
       "      <th>0</th>\n",
       "      <td>0</td>\n",
       "      <td>16687</td>\n",
       "      <td>Solita</td>\n",
       "      <td>0.778</td>\n",
       "      <td>0.683</td>\n",
       "      <td>11</td>\n",
       "      <td>-5.731</td>\n",
       "      <td>1</td>\n",
       "      <td>0.0348</td>\n",
       "      <td>0.395000</td>\n",
       "      <td>0.000000</td>\n",
       "      <td>0.0920</td>\n",
       "      <td>0.757</td>\n",
       "      <td>129.942</td>\n",
       "    </tr>\n",
       "    <tr>\n",
       "      <th>1</th>\n",
       "      <td>1</td>\n",
       "      <td>6875</td>\n",
       "      <td>Agnosie</td>\n",
       "      <td>0.377</td>\n",
       "      <td>0.966</td>\n",
       "      <td>7</td>\n",
       "      <td>-4.426</td>\n",
       "      <td>1</td>\n",
       "      <td>0.1210</td>\n",
       "      <td>0.000204</td>\n",
       "      <td>0.190000</td>\n",
       "      <td>0.1510</td>\n",
       "      <td>0.115</td>\n",
       "      <td>131.734</td>\n",
       "    </tr>\n",
       "    <tr>\n",
       "      <th>2</th>\n",
       "      <td>2</td>\n",
       "      <td>20085</td>\n",
       "      <td>Poore Chand</td>\n",
       "      <td>0.458</td>\n",
       "      <td>0.735</td>\n",
       "      <td>8</td>\n",
       "      <td>-4.580</td>\n",
       "      <td>1</td>\n",
       "      <td>0.0412</td>\n",
       "      <td>0.018700</td>\n",
       "      <td>0.000002</td>\n",
       "      <td>0.0751</td>\n",
       "      <td>0.138</td>\n",
       "      <td>151.894</td>\n",
       "    </tr>\n",
       "    <tr>\n",
       "      <th>3</th>\n",
       "      <td>3</td>\n",
       "      <td>8281</td>\n",
       "      <td>Follow The Leader</td>\n",
       "      <td>0.580</td>\n",
       "      <td>0.094</td>\n",
       "      <td>6</td>\n",
       "      <td>-25.832</td>\n",
       "      <td>1</td>\n",
       "      <td>0.9230</td>\n",
       "      <td>0.922000</td>\n",
       "      <td>0.000000</td>\n",
       "      <td>0.4270</td>\n",
       "      <td>0.442</td>\n",
       "      <td>59.580</td>\n",
       "    </tr>\n",
       "    <tr>\n",
       "      <th>4</th>\n",
       "      <td>4</td>\n",
       "      <td>20731</td>\n",
       "      <td>Born Under A Bad Sign</td>\n",
       "      <td>0.698</td>\n",
       "      <td>0.662</td>\n",
       "      <td>11</td>\n",
       "      <td>-5.970</td>\n",
       "      <td>1</td>\n",
       "      <td>0.0272</td>\n",
       "      <td>0.513000</td>\n",
       "      <td>0.000229</td>\n",
       "      <td>0.0362</td>\n",
       "      <td>0.900</td>\n",
       "      <td>91.390</td>\n",
       "    </tr>\n",
       "  </tbody>\n",
       "</table>\n",
       "</div>"
      ],
      "text/plain": [
       "   id  index                  title  danceability  energy  key  loudness  \\\n",
       "0   0  16687                 Solita         0.778   0.683   11    -5.731   \n",
       "1   1   6875                Agnosie         0.377   0.966    7    -4.426   \n",
       "2   2  20085            Poore Chand         0.458   0.735    8    -4.580   \n",
       "3   3   8281      Follow The Leader         0.580   0.094    6   -25.832   \n",
       "4   4  20731  Born Under A Bad Sign         0.698   0.662   11    -5.970   \n",
       "\n",
       "   mode  speechiness  acousticness  instrumentalness  liveness  valence  \\\n",
       "0     1       0.0348      0.395000          0.000000    0.0920    0.757   \n",
       "1     1       0.1210      0.000204          0.190000    0.1510    0.115   \n",
       "2     1       0.0412      0.018700          0.000002    0.0751    0.138   \n",
       "3     1       0.9230      0.922000          0.000000    0.4270    0.442   \n",
       "4     1       0.0272      0.513000          0.000229    0.0362    0.900   \n",
       "\n",
       "     tempo  \n",
       "0  129.942  \n",
       "1  131.734  \n",
       "2  151.894  \n",
       "3   59.580  \n",
       "4   91.390  "
      ]
     },
     "execution_count": 93,
     "metadata": {},
     "output_type": "execute_result"
    }
   ],
   "source": [
    "test.head()"
   ]
  },
  {
   "cell_type": "code",
   "execution_count": 94,
   "metadata": {
    "collapsed": true
   },
   "outputs": [],
   "source": [
    "del test['title']\n",
    "del test['index']"
   ]
  },
  {
   "cell_type": "code",
   "execution_count": 95,
   "metadata": {},
   "outputs": [
    {
     "data": {
      "text/html": [
       "<div>\n",
       "<style>\n",
       "    .dataframe thead tr:only-child th {\n",
       "        text-align: right;\n",
       "    }\n",
       "\n",
       "    .dataframe thead th {\n",
       "        text-align: left;\n",
       "    }\n",
       "\n",
       "    .dataframe tbody tr th {\n",
       "        vertical-align: top;\n",
       "    }\n",
       "</style>\n",
       "<table border=\"1\" class=\"dataframe\">\n",
       "  <thead>\n",
       "    <tr style=\"text-align: right;\">\n",
       "      <th></th>\n",
       "      <th>id</th>\n",
       "      <th>danceability</th>\n",
       "      <th>energy</th>\n",
       "      <th>key</th>\n",
       "      <th>loudness</th>\n",
       "      <th>mode</th>\n",
       "      <th>speechiness</th>\n",
       "      <th>acousticness</th>\n",
       "      <th>instrumentalness</th>\n",
       "      <th>liveness</th>\n",
       "      <th>valence</th>\n",
       "      <th>tempo</th>\n",
       "    </tr>\n",
       "  </thead>\n",
       "  <tbody>\n",
       "    <tr>\n",
       "      <th>0</th>\n",
       "      <td>0</td>\n",
       "      <td>0.778</td>\n",
       "      <td>0.683</td>\n",
       "      <td>11</td>\n",
       "      <td>-5.731</td>\n",
       "      <td>1</td>\n",
       "      <td>0.0348</td>\n",
       "      <td>0.395000</td>\n",
       "      <td>0.000000</td>\n",
       "      <td>0.0920</td>\n",
       "      <td>0.757</td>\n",
       "      <td>129.942</td>\n",
       "    </tr>\n",
       "    <tr>\n",
       "      <th>1</th>\n",
       "      <td>1</td>\n",
       "      <td>0.377</td>\n",
       "      <td>0.966</td>\n",
       "      <td>7</td>\n",
       "      <td>-4.426</td>\n",
       "      <td>1</td>\n",
       "      <td>0.1210</td>\n",
       "      <td>0.000204</td>\n",
       "      <td>0.190000</td>\n",
       "      <td>0.1510</td>\n",
       "      <td>0.115</td>\n",
       "      <td>131.734</td>\n",
       "    </tr>\n",
       "    <tr>\n",
       "      <th>2</th>\n",
       "      <td>2</td>\n",
       "      <td>0.458</td>\n",
       "      <td>0.735</td>\n",
       "      <td>8</td>\n",
       "      <td>-4.580</td>\n",
       "      <td>1</td>\n",
       "      <td>0.0412</td>\n",
       "      <td>0.018700</td>\n",
       "      <td>0.000002</td>\n",
       "      <td>0.0751</td>\n",
       "      <td>0.138</td>\n",
       "      <td>151.894</td>\n",
       "    </tr>\n",
       "    <tr>\n",
       "      <th>3</th>\n",
       "      <td>3</td>\n",
       "      <td>0.580</td>\n",
       "      <td>0.094</td>\n",
       "      <td>6</td>\n",
       "      <td>-25.832</td>\n",
       "      <td>1</td>\n",
       "      <td>0.9230</td>\n",
       "      <td>0.922000</td>\n",
       "      <td>0.000000</td>\n",
       "      <td>0.4270</td>\n",
       "      <td>0.442</td>\n",
       "      <td>59.580</td>\n",
       "    </tr>\n",
       "    <tr>\n",
       "      <th>4</th>\n",
       "      <td>4</td>\n",
       "      <td>0.698</td>\n",
       "      <td>0.662</td>\n",
       "      <td>11</td>\n",
       "      <td>-5.970</td>\n",
       "      <td>1</td>\n",
       "      <td>0.0272</td>\n",
       "      <td>0.513000</td>\n",
       "      <td>0.000229</td>\n",
       "      <td>0.0362</td>\n",
       "      <td>0.900</td>\n",
       "      <td>91.390</td>\n",
       "    </tr>\n",
       "  </tbody>\n",
       "</table>\n",
       "</div>"
      ],
      "text/plain": [
       "   id  danceability  energy  key  loudness  mode  speechiness  acousticness  \\\n",
       "0   0         0.778   0.683   11    -5.731     1       0.0348      0.395000   \n",
       "1   1         0.377   0.966    7    -4.426     1       0.1210      0.000204   \n",
       "2   2         0.458   0.735    8    -4.580     1       0.0412      0.018700   \n",
       "3   3         0.580   0.094    6   -25.832     1       0.9230      0.922000   \n",
       "4   4         0.698   0.662   11    -5.970     1       0.0272      0.513000   \n",
       "\n",
       "   instrumentalness  liveness  valence    tempo  \n",
       "0          0.000000    0.0920    0.757  129.942  \n",
       "1          0.190000    0.1510    0.115  131.734  \n",
       "2          0.000002    0.0751    0.138  151.894  \n",
       "3          0.000000    0.4270    0.442   59.580  \n",
       "4          0.000229    0.0362    0.900   91.390  "
      ]
     },
     "execution_count": 95,
     "metadata": {},
     "output_type": "execute_result"
    }
   ],
   "source": [
    "test.head()"
   ]
  },
  {
   "cell_type": "code",
   "execution_count": 112,
   "metadata": {},
   "outputs": [
    {
     "data": {
      "text/plain": [
       "array([ 7,  8, 13, ...,  5,  1,  1])"
      ]
     },
     "execution_count": 112,
     "metadata": {},
     "output_type": "execute_result"
    }
   ],
   "source": [
    "clfrandom.predict(test)"
   ]
  },
  {
   "cell_type": "code",
   "execution_count": 124,
   "metadata": {},
   "outputs": [
    {
     "data": {
      "text/html": [
       "<div>\n",
       "<style>\n",
       "    .dataframe thead tr:only-child th {\n",
       "        text-align: right;\n",
       "    }\n",
       "\n",
       "    .dataframe thead th {\n",
       "        text-align: left;\n",
       "    }\n",
       "\n",
       "    .dataframe tbody tr th {\n",
       "        vertical-align: top;\n",
       "    }\n",
       "</style>\n",
       "<table border=\"1\" class=\"dataframe\">\n",
       "  <thead>\n",
       "    <tr style=\"text-align: right;\">\n",
       "      <th></th>\n",
       "      <th>danceability</th>\n",
       "      <th>key</th>\n",
       "      <th>mode</th>\n",
       "      <th>speechiness</th>\n",
       "      <th>acousticness</th>\n",
       "      <th>instrumentalness</th>\n",
       "      <th>liveness</th>\n",
       "      <th>valence</th>\n",
       "      <th>tempo</th>\n",
       "    </tr>\n",
       "  </thead>\n",
       "  <tbody>\n",
       "    <tr>\n",
       "      <th>0</th>\n",
       "      <td>0.4820</td>\n",
       "      <td>10</td>\n",
       "      <td>0</td>\n",
       "      <td>0.0503</td>\n",
       "      <td>0.020100</td>\n",
       "      <td>0.000000</td>\n",
       "      <td>0.2510</td>\n",
       "      <td>0.3880</td>\n",
       "      <td>117.850</td>\n",
       "    </tr>\n",
       "    <tr>\n",
       "      <th>1</th>\n",
       "      <td>0.5180</td>\n",
       "      <td>0</td>\n",
       "      <td>1</td>\n",
       "      <td>0.0672</td>\n",
       "      <td>0.005630</td>\n",
       "      <td>0.003490</td>\n",
       "      <td>0.0598</td>\n",
       "      <td>0.2420</td>\n",
       "      <td>117.897</td>\n",
       "    </tr>\n",
       "    <tr>\n",
       "      <th>2</th>\n",
       "      <td>0.5430</td>\n",
       "      <td>11</td>\n",
       "      <td>0</td>\n",
       "      <td>0.0732</td>\n",
       "      <td>0.018500</td>\n",
       "      <td>0.000000</td>\n",
       "      <td>0.2070</td>\n",
       "      <td>0.3650</td>\n",
       "      <td>84.541</td>\n",
       "    </tr>\n",
       "    <tr>\n",
       "      <th>3</th>\n",
       "      <td>0.2910</td>\n",
       "      <td>1</td>\n",
       "      <td>1</td>\n",
       "      <td>0.0556</td>\n",
       "      <td>0.000918</td>\n",
       "      <td>0.000007</td>\n",
       "      <td>0.2910</td>\n",
       "      <td>0.4480</td>\n",
       "      <td>80.601</td>\n",
       "    </tr>\n",
       "    <tr>\n",
       "      <th>4</th>\n",
       "      <td>0.0975</td>\n",
       "      <td>3</td>\n",
       "      <td>1</td>\n",
       "      <td>0.0408</td>\n",
       "      <td>0.992000</td>\n",
       "      <td>0.461000</td>\n",
       "      <td>0.1010</td>\n",
       "      <td>0.0353</td>\n",
       "      <td>80.872</td>\n",
       "    </tr>\n",
       "  </tbody>\n",
       "</table>\n",
       "</div>"
      ],
      "text/plain": [
       "   danceability  key  mode  speechiness  acousticness  instrumentalness  \\\n",
       "0        0.4820   10     0       0.0503      0.020100          0.000000   \n",
       "1        0.5180    0     1       0.0672      0.005630          0.003490   \n",
       "2        0.5430   11     0       0.0732      0.018500          0.000000   \n",
       "3        0.2910    1     1       0.0556      0.000918          0.000007   \n",
       "4        0.0975    3     1       0.0408      0.992000          0.461000   \n",
       "\n",
       "   liveness  valence    tempo  \n",
       "0    0.2510   0.3880  117.850  \n",
       "1    0.0598   0.2420  117.897  \n",
       "2    0.2070   0.3650   84.541  \n",
       "3    0.2910   0.4480   80.601  \n",
       "4    0.1010   0.0353   80.872  "
      ]
     },
     "execution_count": 124,
     "metadata": {},
     "output_type": "execute_result"
    }
   ],
   "source": [
    "temp = spotify\n",
    "temp.head()\n"
   ]
  },
  {
   "cell_type": "code",
   "execution_count": 117,
   "metadata": {
    "collapsed": true
   },
   "outputs": [],
   "source": [
    "del temp['loudness']"
   ]
  },
  {
   "cell_type": "code",
   "execution_count": 118,
   "metadata": {},
   "outputs": [
    {
     "data": {
      "text/plain": [
       "0.49728752260397829"
      ]
     },
     "execution_count": 118,
     "metadata": {},
     "output_type": "execute_result"
    }
   ],
   "source": [
    "x_train,x_test,y_train,y_test=cv.train_test_split(temp,y,test_size=0.10)\n",
    "clfrandom=rfc(n_estimators = 10)\n",
    "clfrandom.fit(x_train,y_train)\n",
    "score=clfrandom.score(x_test,y_test)\n",
    "score"
   ]
  },
  {
   "cell_type": "code",
   "execution_count": 120,
   "metadata": {},
   "outputs": [
    {
     "name": "stdout",
     "output_type": "stream",
     "text": [
      "[ 0.09563975  0.14311961  0.05287169  0.01592326  0.12199414  0.17607153\n",
      "  0.09872535  0.08013775  0.11982752  0.09568941]\n"
     ]
    }
   ],
   "source": [
    "print(clfrandom.feature_importances_)"
   ]
  },
  {
   "cell_type": "code",
   "execution_count": 121,
   "metadata": {
    "collapsed": true
   },
   "outputs": [],
   "source": [
    "id = temp['id']\n",
    "del temp['id']"
   ]
  },
  {
   "cell_type": "code",
   "execution_count": 122,
   "metadata": {},
   "outputs": [
    {
     "data": {
      "text/html": [
       "<div>\n",
       "<style>\n",
       "    .dataframe thead tr:only-child th {\n",
       "        text-align: right;\n",
       "    }\n",
       "\n",
       "    .dataframe thead th {\n",
       "        text-align: left;\n",
       "    }\n",
       "\n",
       "    .dataframe tbody tr th {\n",
       "        vertical-align: top;\n",
       "    }\n",
       "</style>\n",
       "<table border=\"1\" class=\"dataframe\">\n",
       "  <thead>\n",
       "    <tr style=\"text-align: right;\">\n",
       "      <th></th>\n",
       "      <th>danceability</th>\n",
       "      <th>key</th>\n",
       "      <th>mode</th>\n",
       "      <th>speechiness</th>\n",
       "      <th>acousticness</th>\n",
       "      <th>instrumentalness</th>\n",
       "      <th>liveness</th>\n",
       "      <th>valence</th>\n",
       "      <th>tempo</th>\n",
       "    </tr>\n",
       "  </thead>\n",
       "  <tbody>\n",
       "    <tr>\n",
       "      <th>0</th>\n",
       "      <td>0.4820</td>\n",
       "      <td>10</td>\n",
       "      <td>0</td>\n",
       "      <td>0.0503</td>\n",
       "      <td>0.020100</td>\n",
       "      <td>0.000000</td>\n",
       "      <td>0.2510</td>\n",
       "      <td>0.3880</td>\n",
       "      <td>117.850</td>\n",
       "    </tr>\n",
       "    <tr>\n",
       "      <th>1</th>\n",
       "      <td>0.5180</td>\n",
       "      <td>0</td>\n",
       "      <td>1</td>\n",
       "      <td>0.0672</td>\n",
       "      <td>0.005630</td>\n",
       "      <td>0.003490</td>\n",
       "      <td>0.0598</td>\n",
       "      <td>0.2420</td>\n",
       "      <td>117.897</td>\n",
       "    </tr>\n",
       "    <tr>\n",
       "      <th>2</th>\n",
       "      <td>0.5430</td>\n",
       "      <td>11</td>\n",
       "      <td>0</td>\n",
       "      <td>0.0732</td>\n",
       "      <td>0.018500</td>\n",
       "      <td>0.000000</td>\n",
       "      <td>0.2070</td>\n",
       "      <td>0.3650</td>\n",
       "      <td>84.541</td>\n",
       "    </tr>\n",
       "    <tr>\n",
       "      <th>3</th>\n",
       "      <td>0.2910</td>\n",
       "      <td>1</td>\n",
       "      <td>1</td>\n",
       "      <td>0.0556</td>\n",
       "      <td>0.000918</td>\n",
       "      <td>0.000007</td>\n",
       "      <td>0.2910</td>\n",
       "      <td>0.4480</td>\n",
       "      <td>80.601</td>\n",
       "    </tr>\n",
       "    <tr>\n",
       "      <th>4</th>\n",
       "      <td>0.0975</td>\n",
       "      <td>3</td>\n",
       "      <td>1</td>\n",
       "      <td>0.0408</td>\n",
       "      <td>0.992000</td>\n",
       "      <td>0.461000</td>\n",
       "      <td>0.1010</td>\n",
       "      <td>0.0353</td>\n",
       "      <td>80.872</td>\n",
       "    </tr>\n",
       "  </tbody>\n",
       "</table>\n",
       "</div>"
      ],
      "text/plain": [
       "   danceability  key  mode  speechiness  acousticness  instrumentalness  \\\n",
       "0        0.4820   10     0       0.0503      0.020100          0.000000   \n",
       "1        0.5180    0     1       0.0672      0.005630          0.003490   \n",
       "2        0.5430   11     0       0.0732      0.018500          0.000000   \n",
       "3        0.2910    1     1       0.0556      0.000918          0.000007   \n",
       "4        0.0975    3     1       0.0408      0.992000          0.461000   \n",
       "\n",
       "   liveness  valence    tempo  \n",
       "0    0.2510   0.3880  117.850  \n",
       "1    0.0598   0.2420  117.897  \n",
       "2    0.2070   0.3650   84.541  \n",
       "3    0.2910   0.4480   80.601  \n",
       "4    0.1010   0.0353   80.872  "
      ]
     },
     "execution_count": 122,
     "metadata": {},
     "output_type": "execute_result"
    }
   ],
   "source": [
    "temp.head()"
   ]
  },
  {
   "cell_type": "code",
   "execution_count": 131,
   "metadata": {},
   "outputs": [
    {
     "data": {
      "text/html": [
       "<div>\n",
       "<style>\n",
       "    .dataframe thead tr:only-child th {\n",
       "        text-align: right;\n",
       "    }\n",
       "\n",
       "    .dataframe thead th {\n",
       "        text-align: left;\n",
       "    }\n",
       "\n",
       "    .dataframe tbody tr th {\n",
       "        vertical-align: top;\n",
       "    }\n",
       "</style>\n",
       "<table border=\"1\" class=\"dataframe\">\n",
       "  <thead>\n",
       "    <tr style=\"text-align: right;\">\n",
       "      <th></th>\n",
       "      <th>danceability</th>\n",
       "      <th>energy</th>\n",
       "      <th>key</th>\n",
       "      <th>loudness</th>\n",
       "      <th>mode</th>\n",
       "      <th>speechiness</th>\n",
       "      <th>acousticness</th>\n",
       "      <th>instrumentalness</th>\n",
       "      <th>liveness</th>\n",
       "      <th>valence</th>\n",
       "      <th>tempo</th>\n",
       "      <th>genre</th>\n",
       "    </tr>\n",
       "  </thead>\n",
       "  <tbody>\n",
       "    <tr>\n",
       "      <th>0</th>\n",
       "      <td>0.4820</td>\n",
       "      <td>0.4770</td>\n",
       "      <td>10</td>\n",
       "      <td>-8.444</td>\n",
       "      <td>0</td>\n",
       "      <td>0.0503</td>\n",
       "      <td>0.020100</td>\n",
       "      <td>0.000000</td>\n",
       "      <td>0.2510</td>\n",
       "      <td>0.3880</td>\n",
       "      <td>117.850</td>\n",
       "      <td>hiphop</td>\n",
       "    </tr>\n",
       "    <tr>\n",
       "      <th>1</th>\n",
       "      <td>0.5180</td>\n",
       "      <td>0.8580</td>\n",
       "      <td>0</td>\n",
       "      <td>-6.147</td>\n",
       "      <td>1</td>\n",
       "      <td>0.0672</td>\n",
       "      <td>0.005630</td>\n",
       "      <td>0.003490</td>\n",
       "      <td>0.0598</td>\n",
       "      <td>0.2420</td>\n",
       "      <td>117.897</td>\n",
       "      <td>metal</td>\n",
       "    </tr>\n",
       "    <tr>\n",
       "      <th>2</th>\n",
       "      <td>0.5430</td>\n",
       "      <td>0.8190</td>\n",
       "      <td>11</td>\n",
       "      <td>-5.151</td>\n",
       "      <td>0</td>\n",
       "      <td>0.0732</td>\n",
       "      <td>0.018500</td>\n",
       "      <td>0.000000</td>\n",
       "      <td>0.2070</td>\n",
       "      <td>0.3650</td>\n",
       "      <td>84.541</td>\n",
       "      <td>hiphop</td>\n",
       "    </tr>\n",
       "    <tr>\n",
       "      <th>3</th>\n",
       "      <td>0.2910</td>\n",
       "      <td>0.7580</td>\n",
       "      <td>1</td>\n",
       "      <td>-12.103</td>\n",
       "      <td>1</td>\n",
       "      <td>0.0556</td>\n",
       "      <td>0.000918</td>\n",
       "      <td>0.000007</td>\n",
       "      <td>0.2910</td>\n",
       "      <td>0.4480</td>\n",
       "      <td>80.601</td>\n",
       "      <td>metal</td>\n",
       "    </tr>\n",
       "    <tr>\n",
       "      <th>4</th>\n",
       "      <td>0.0975</td>\n",
       "      <td>0.0696</td>\n",
       "      <td>3</td>\n",
       "      <td>-24.941</td>\n",
       "      <td>1</td>\n",
       "      <td>0.0408</td>\n",
       "      <td>0.992000</td>\n",
       "      <td>0.461000</td>\n",
       "      <td>0.1010</td>\n",
       "      <td>0.0353</td>\n",
       "      <td>80.872</td>\n",
       "      <td>classical</td>\n",
       "    </tr>\n",
       "  </tbody>\n",
       "</table>\n",
       "</div>"
      ],
      "text/plain": [
       "   danceability  energy  key  loudness  mode  speechiness  acousticness  \\\n",
       "0        0.4820  0.4770   10    -8.444     0       0.0503      0.020100   \n",
       "1        0.5180  0.8580    0    -6.147     1       0.0672      0.005630   \n",
       "2        0.5430  0.8190   11    -5.151     0       0.0732      0.018500   \n",
       "3        0.2910  0.7580    1   -12.103     1       0.0556      0.000918   \n",
       "4        0.0975  0.0696    3   -24.941     1       0.0408      0.992000   \n",
       "\n",
       "   instrumentalness  liveness  valence    tempo      genre  \n",
       "0          0.000000    0.2510   0.3880  117.850     hiphop  \n",
       "1          0.003490    0.0598   0.2420  117.897      metal  \n",
       "2          0.000000    0.2070   0.3650   84.541     hiphop  \n",
       "3          0.000007    0.2910   0.4480   80.601      metal  \n",
       "4          0.461000    0.1010   0.0353   80.872  classical  "
      ]
     },
     "execution_count": 131,
     "metadata": {},
     "output_type": "execute_result"
    }
   ],
   "source": [
    "spotify.head()"
   ]
  },
  {
   "cell_type": "code",
   "execution_count": 132,
   "metadata": {},
   "outputs": [
    {
     "data": {
      "text/plain": [
       "Index(['danceability', 'energy', 'key', 'loudness', 'mode', 'speechiness',\n",
       "       'acousticness', 'instrumentalness', 'liveness', 'valence', 'tempo',\n",
       "       'genre'],\n",
       "      dtype='object')"
      ]
     },
     "execution_count": 132,
     "metadata": {},
     "output_type": "execute_result"
    }
   ],
   "source": [
    "spotify.columns"
   ]
  },
  {
   "cell_type": "code",
   "execution_count": null,
   "metadata": {
    "collapsed": true
   },
   "outputs": [],
   "source": [
    "df = spotify[['danceability', 'key', 'loudness', 'mode', 'speechiness',\n",
    "       'acousticness', 'instrumentalness', 'liveness', 'valence', 'tempo'\n",
    "       ]]"
   ]
  }
 ],
 "metadata": {
  "kernelspec": {
   "display_name": "Python 3",
   "language": "python",
   "name": "python3"
  },
  "language_info": {
   "codemirror_mode": {
    "name": "ipython",
    "version": 3
   },
   "file_extension": ".py",
   "mimetype": "text/x-python",
   "name": "python",
   "nbconvert_exporter": "python",
   "pygments_lexer": "ipython3",
   "version": "3.6.2"
  }
 },
 "nbformat": 4,
 "nbformat_minor": 2
}
